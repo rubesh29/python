{
  "nbformat": 4,
  "nbformat_minor": 0,
  "metadata": {
    "colab": {
      "name": "rubesh.ipynb",
      "provenance": [],
      "authorship_tag": "ABX9TyNZ9Vfax5e0zjZJGwkiIyuK",
      "include_colab_link": true
    },
    "kernelspec": {
      "name": "python3",
      "display_name": "Python 3"
    },
    "language_info": {
      "name": "python"
    }
  },
  "cells": [
    {
      "cell_type": "markdown",
      "metadata": {
        "id": "view-in-github",
        "colab_type": "text"
      },
      "source": [
        "<a href=\"https://colab.research.google.com/github/rubesh29/python/blob/main/rubesh.ipynb\" target=\"_parent\"><img src=\"https://colab.research.google.com/assets/colab-badge.svg\" alt=\"Open In Colab\"/></a>"
      ]
    },
    {
      "cell_type": "code",
      "metadata": {
        "colab": {
          "base_uri": "https://localhost:8080/"
        },
        "id": "YsfMdb99XZQM",
        "outputId": "caee928a-29a4-4435-9c12-a9bbb898a866"
      },
      "source": [
        "p=1000\n",
        "t=2\n",
        "r=1\n",
        "sl=(p*t*r)/100\n",
        "print(\"sample integer is\",sl)"
      ],
      "execution_count": 2,
      "outputs": [
        {
          "output_type": "stream",
          "text": [
            "sample integer is 20.0\n"
          ],
          "name": "stdout"
        }
      ]
    }
  ]
}