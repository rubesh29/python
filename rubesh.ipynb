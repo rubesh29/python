{
  "nbformat": 4,
  "nbformat_minor": 0,
  "metadata": {
    "colab": {
      "name": "rubesh.ipynb",
      "provenance": [],
      "authorship_tag": "ABX9TyNEv2WcPl2WHeYwNBdfnbUw",
      "include_colab_link": true
    },
    "kernelspec": {
      "name": "python3",
      "display_name": "Python 3"
    },
    "language_info": {
      "name": "python"
    }
  },
  "cells": [
    {
      "cell_type": "markdown",
      "metadata": {
        "id": "view-in-github",
        "colab_type": "text"
      },
      "source": [
        "<a href=\"https://colab.research.google.com/github/rubesh29/python/blob/main/rubesh.ipynb\" target=\"_parent\"><img src=\"https://colab.research.google.com/assets/colab-badge.svg\" alt=\"Open In Colab\"/></a>"
      ]
    },
    {
      "cell_type": "code",
      "metadata": {
        "id": "Mvh7s9chEDo8"
      },
      "source": [
        ""
      ],
      "execution_count": null,
      "outputs": []
    },
    {
      "cell_type": "markdown",
      "metadata": {
        "id": "OniE7yyrEysZ"
      },
      "source": [
        ""
      ]
    },
    {
      "cell_type": "markdown",
      "metadata": {
        "id": "zLffdTLjEyvu"
      },
      "source": [
        "python program to do arthematical operation"
      ]
    },
    {
      "cell_type": "code",
      "metadata": {
        "colab": {
          "base_uri": "https://localhost:8080/"
        },
        "id": "wvWGlhciFAL-",
        "outputId": "cfe37ba0-c2f7-4631-96c0-647d4fef057d"
      },
      "source": [
        "x=int(input(\"enter num 1=\"))\n",
        "y=int(input(\"enter the num 2=4\"))\n",
        "print(\"addition=\",x+y)\n",
        "print(\"subtraction\",x-y)\n",
        "print(\"multiplication\",x*y)\n",
        "print(\"division\",x/y)\n"
      ],
      "execution_count": 2,
      "outputs": [
        {
          "output_type": "stream",
          "text": [
            "enter num 1=4\n",
            "enter the num 2=4\n",
            "addition= 8\n",
            "subtraction 0\n",
            "multiplication 16\n",
            "division 1.0\n"
          ],
          "name": "stdout"
        }
      ]
    }
  ]
}