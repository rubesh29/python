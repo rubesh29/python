{
  "nbformat": 4,
  "nbformat_minor": 0,
  "metadata": {
    "colab": {
      "name": "rubesh.ipynb",
      "provenance": [],
      "authorship_tag": "ABX9TyPZ0ujgfkLKsAlUOhBFCFPH",
      "include_colab_link": true
    },
    "kernelspec": {
      "name": "python3",
      "display_name": "Python 3"
    },
    "language_info": {
      "name": "python"
    }
  },
  "cells": [
    {
      "cell_type": "markdown",
      "metadata": {
        "id": "view-in-github",
        "colab_type": "text"
      },
      "source": [
        "<a href=\"https://colab.research.google.com/github/rubesh29/python/blob/main/rubesh.ipynb\" target=\"_parent\"><img src=\"https://colab.research.google.com/assets/colab-badge.svg\" alt=\"Open In Colab\"/></a>"
      ]
    },
    {
      "cell_type": "code",
      "metadata": {
        "colab": {
          "base_uri": "https://localhost:8080/"
        },
        "id": "H2sunZEQVSDe",
        "outputId": "1f1aa3cd-33fe-4a93-9f05-639222715eb2"
      },
      "source": [
        "name=input(\"enter the name:\")\n",
        "age=int(input(\"enter your age:\"))\n",
        "address=input(\"enter your address:\")\n",
        "salary=input(\"enter the salary:\")\n",
        "number=input(\"enter the number\")\n",
        "print(\"name:\",name)\n",
        "print(\"\\nage\",age)\n",
        "print(\"\\naddress\",address)\n",
        "print(\"\\nsalary\",salary)\n",
        "print(\"\\nnumber\",number)"
      ],
      "execution_count": 1,
      "outputs": [
        {
          "output_type": "stream",
          "text": [
            "enter the name:rubesh\n",
            "enter your age:18\n",
            "enter your address:erode\n",
            "enter the salary:120000\n",
            "enter the number73\n",
            "name: rubesh\n",
            "\n",
            "age 18\n",
            "\n",
            "address erode\n",
            "\n",
            "salary 120000\n",
            "\n",
            "number 73\n"
          ],
          "name": "stdout"
        }
      ]
    }
  ]
}