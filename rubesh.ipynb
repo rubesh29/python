{
  "nbformat": 4,
  "nbformat_minor": 0,
  "metadata": {
    "colab": {
      "name": "rubesh.ipynb",
      "provenance": [],
      "authorship_tag": "ABX9TyNcOoLPOGfsXoO88UCuyuTj",
      "include_colab_link": true
    },
    "kernelspec": {
      "name": "python3",
      "display_name": "Python 3"
    },
    "language_info": {
      "name": "python"
    }
  },
  "cells": [
    {
      "cell_type": "markdown",
      "metadata": {
        "id": "view-in-github",
        "colab_type": "text"
      },
      "source": [
        "<a href=\"https://colab.research.google.com/github/rubesh29/python/blob/main/rubesh.ipynb\" target=\"_parent\"><img src=\"https://colab.research.google.com/assets/colab-badge.svg\" alt=\"Open In Colab\"/></a>"
      ]
    },
    {
      "cell_type": "code",
      "metadata": {
        "colab": {
          "base_uri": "https://localhost:8080/"
        },
        "id": "X0cNlWthYCzH",
        "outputId": "a09bfe94-6cda-46ac-f346-106364c797df"
      },
      "source": [
        "a=input(\"enter the sentance:\")\n",
        "b=a[::-1]\n",
        "print(\"reverse sentance is:\")\n",
        "print(b)"
      ],
      "execution_count": 3,
      "outputs": [
        {
          "output_type": "stream",
          "text": [
            "enter the sentance:rubesh\n",
            "reverse sentance is:\n",
            "hsebur\n"
          ],
          "name": "stdout"
        }
      ]
    }
  ]
}