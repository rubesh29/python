{
  "nbformat": 4,
  "nbformat_minor": 0,
  "metadata": {
    "colab": {
      "name": "rubesh.ipynb",
      "provenance": [],
      "authorship_tag": "ABX9TyPNzkCOy5+9lbRv7LzmDLrT",
      "include_colab_link": true
    },
    "kernelspec": {
      "name": "python3",
      "display_name": "Python 3"
    },
    "language_info": {
      "name": "python"
    }
  },
  "cells": [
    {
      "cell_type": "markdown",
      "metadata": {
        "id": "view-in-github",
        "colab_type": "text"
      },
      "source": [
        "<a href=\"https://colab.research.google.com/github/rubesh29/python/blob/main/rubesh.ipynb\" target=\"_parent\"><img src=\"https://colab.research.google.com/assets/colab-badge.svg\" alt=\"Open In Colab\"/></a>"
      ]
    },
    {
      "cell_type": "code",
      "metadata": {
        "id": "Mvh7s9chEDo8"
      },
      "source": [
        ""
      ],
      "execution_count": null,
      "outputs": []
    },
    {
      "cell_type": "markdown",
      "metadata": {
        "id": "OniE7yyrEysZ"
      },
      "source": [
        ""
      ]
    },
    {
      "cell_type": "markdown",
      "metadata": {
        "id": "zLffdTLjEyvu"
      },
      "source": [
        "swapping\n"
      ]
    },
    {
      "cell_type": "code",
      "metadata": {
        "id": "QWIIyWfNP7x4",
        "colab": {
          "base_uri": "https://localhost:8080/"
        },
        "outputId": "2b47e0f3-5e5b-4ed3-b1ab-20b6f7a9a331"
      },
      "source": [
        "a=20\n",
        "b=58\n",
        "print(\"before swapping\")\n",
        "print(\"a=\",a)\n",
        "print(\"b=\",b)\n",
        "temp=a\n",
        "a=b\n",
        "b=temp\n",
        "print(\"after swappinng\")\n",
        "print(\"a=\",a)\n",
        "print('b=',b)"
      ],
      "execution_count": 4,
      "outputs": [
        {
          "output_type": "stream",
          "text": [
            "before swapping\n",
            "a= 20\n",
            "b= 58\n",
            "after swappinng\n",
            "a= 58\n",
            "b= 20\n"
          ],
          "name": "stdout"
        }
      ]
    }
  ]
}